{
 "cells": [
  {
   "cell_type": "markdown",
   "metadata": {},
   "source": [
    "# Analis exploratorio para libros de programas de catedra\n",
    "Este analisis surge por la necesidad de comparar el material de la catedra, que figura en los programas, con respecto a los datos que me ortoga la bilbioteca. ¿Que diferencia hay entre los libros ya procesados? y es que ese procesamiento se hizo pensando en que la medida a comparar sea el valos  \"ISBN\" de cada libro, en este caso se piensa que la medida sera solo el autor y libro."
   ]
  },
  {
   "cell_type": "markdown",
   "metadata": {},
   "source": [
    "## Librerias y ruta de acceso"
   ]
  },
  {
   "cell_type": "code",
   "execution_count": 1,
   "metadata": {},
   "outputs": [
    {
     "name": "stdout",
     "output_type": "stream",
     "text": [
      "ISBN-10: 846044757X -> ISBN-13: 9788460447573\n"
     ]
    }
   ],
   "source": [
    "import sys\n",
    "import os\n",
    "\n",
    "sys.path.append(os.path.abspath('C:/Users/Axel/Desktop/Practica-Biblioteca'))\n",
    "\n",
    "from src import lectura, conversor\n",
    "import pandas as pd"
   ]
  },
  {
   "cell_type": "code",
   "execution_count": 7,
   "metadata": {},
   "outputs": [
    {
     "name": "stdout",
     "output_type": "stream",
     "text": [
      "Archivo C:/Users/Axel/Desktop/Practica-Biblioteca/data/crudos/bidi.csv leído con éxito.\n",
      "Archivo C:/Users/Axel/Desktop/Practica-Biblioteca/data/crudos/consulta_koha.csv leído con éxito.\n",
      "Archivo C:/Users/Axel/Desktop/Practica-Biblioteca/data/crudos/total_koha.csv leído con éxito.\n"
     ]
    }
   ],
   "source": [
    "#Lectura de los 3 archivos\n",
    "df1 = lectura.leer_csv('C:/Users/Axel/Desktop/Practica-Biblioteca/data/crudos/bidi.csv')\n",
    "df2 = lectura.leer_csv('C:/Users/Axel/Desktop/Practica-Biblioteca/data/crudos/consulta_koha.csv')\n",
    "df3 = lectura.leer_csv('C:/Users/Axel/Desktop/Practica-Biblioteca/data/crudos/total_koha.csv')"
   ]
  },
  {
   "cell_type": "code",
   "execution_count": 8,
   "metadata": {},
   "outputs": [],
   "source": [
    "# del df1 se toman las columnas 1 y 2\n",
    "df1 = df1.iloc[:, 1:3]\n",
    "df1.columns = ['title', 'author']"
   ]
  },
  {
   "cell_type": "code",
   "execution_count": 11,
   "metadata": {},
   "outputs": [],
   "source": [
    "#del df2 y df3 se toman las columnas 'title' y 'author'\n",
    "df2 = df2[['title', 'author']]\n",
    "df3 = df3[['title', 'author']]"
   ]
  },
  {
   "cell_type": "code",
   "execution_count": 14,
   "metadata": {},
   "outputs": [],
   "source": [
    "#en la columna titulo se encuentran titulos y ediciones o volumenes, se procede a solo dejar los titulos\n",
    "# en el caso donde dice edicion se presenta asi \" administración de ventas (8a edición)\" donde el titulo es \"administración de ventas\" \n",
    "# y la edicion es \"8a edición\" entre parentesis se procede a eliminar la edicion\n",
    "\n",
    "df1['title'] = df1['title'].str.replace(r'\\(.*?\\)', '', regex=True).str.strip() # Eliminar ediciones \n",
    "\n",
    "#para el caso de los volumenes se presenta asi \"química orgánica: volumen 1\" o \"fisica preuniversitaria. volumen i\" es decir el separados es dos puntos o uno\n",
    "#se procede a eliminar los volumenes\n",
    "\n",
    "import re\n",
    "\n",
    "def limpiar_titulo(title):\n",
    "    # Expresión regular para detectar \"volumen\" o \"vol.\" con su número o identificación\n",
    "    patron_volumen = r'(?i)(?:\\bvol(?:umen)?\\.?\\s*[ivxlcdm]+\\b|\\bvolumen\\s*\\d+\\b)'\n",
    "    \n",
    "    # Buscar cualquier ocurrencia de \"volumen\" o \"vol.\" y dividir el string antes de eso\n",
    "    title_limpio = re.split(patron_volumen, title)[0]\n",
    "    \n",
    "    # Eliminar espacios en blanco adicionales al inicio y al final\n",
    "    return title_limpio.strip()\n",
    "\n",
    "# Aplicar la función a la columna 'title'\n",
    "df1['title'] = df1['title'].apply(limpiar_titulo)"
   ]
  },
  {
   "cell_type": "code",
   "execution_count": 13,
   "metadata": {},
   "outputs": [
    {
     "name": "stdout",
     "output_type": "stream",
     "text": [
      "<class 'pandas.core.frame.DataFrame'>\n",
      "Index: 1209 entries, 0 to 1547\n",
      "Data columns (total 2 columns):\n",
      " #   Column  Non-Null Count  Dtype \n",
      "---  ------  --------------  ----- \n",
      " 0   title   1209 non-null   object\n",
      " 1   author  1209 non-null   object\n",
      "dtypes: object(2)\n",
      "memory usage: 28.3+ KB\n"
     ]
    }
   ],
   "source": [
    "df2 = df2.dropna()\n",
    "df3 = df3.dropna()\n",
    "df2 = df2.drop_duplicates()\n",
    "df3 = df3.drop_duplicates()\n",
    "\n",
    "df2.info()"
   ]
  },
  {
   "cell_type": "code",
   "execution_count": 18,
   "metadata": {},
   "outputs": [],
   "source": [
    "#Agregar columna de origen\n",
    "df1['origen'] = 'bidi'\n",
    "df2['origen'] = 'consulta_koha'\n",
    "df3['origen'] = 'total_koha'\n",
    "#juntar los 3 dataframes\n",
    "df = pd.concat([df1, df2, df3], ignore_index=True)\n"
   ]
  },
  {
   "cell_type": "code",
   "execution_count": 19,
   "metadata": {},
   "outputs": [
    {
     "name": "stdout",
     "output_type": "stream",
     "text": [
      "<class 'pandas.core.frame.DataFrame'>\n",
      "RangeIndex: 9449 entries, 0 to 9448\n",
      "Data columns (total 3 columns):\n",
      " #   Column  Non-Null Count  Dtype \n",
      "---  ------  --------------  ----- \n",
      " 0   title   9449 non-null   object\n",
      " 1   author  9447 non-null   object\n",
      " 2   origen  9449 non-null   object\n",
      "dtypes: object(3)\n",
      "memory usage: 221.6+ KB\n"
     ]
    }
   ],
   "source": [
    "df.info()"
   ]
  },
  {
   "cell_type": "code",
   "execution_count": 20,
   "metadata": {},
   "outputs": [],
   "source": [
    "#escritura del archivo\n",
    "df.to_csv('C:/Users/Axel/Desktop/Practica-Biblioteca/data/procesados/titulos_autores_bilbioteca.csv', index=False)"
   ]
  }
 ],
 "metadata": {
  "kernelspec": {
   "display_name": "Python 3",
   "language": "python",
   "name": "python3"
  },
  "language_info": {
   "codemirror_mode": {
    "name": "ipython",
    "version": 3
   },
   "file_extension": ".py",
   "mimetype": "text/x-python",
   "name": "python",
   "nbconvert_exporter": "python",
   "pygments_lexer": "ipython3",
   "version": "3.12.7"
  }
 },
 "nbformat": 4,
 "nbformat_minor": 2
}
