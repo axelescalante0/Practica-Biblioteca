{
 "cells": [
  {
   "cell_type": "markdown",
   "metadata": {},
   "source": [
    "# Analisis exploratorio de los distintos archivos \n",
    "\n",
    "* Total_koha: Este archivo contiene los datos pertenecientes a al sistema implementado en la Facultad de Ingeniera \n",
    "* Consulta_koha: Contiene los libros pertenecientes al sistema de la Facultad de Ingenieria marcados como material de consulta\n",
    "* Bidi: Servicio de libros digitales en el que la facultad se encuetra suscrito"
   ]
  },
  {
   "cell_type": "markdown",
   "metadata": {},
   "source": [
    "## Librerias de utilidad y ruta de acceso"
   ]
  },
  {
   "cell_type": "code",
   "execution_count": 2,
   "metadata": {},
   "outputs": [
    {
     "name": "stdout",
     "output_type": "stream",
     "text": [
      "ISBN-10: 846044757X -> ISBN-13: 9788460447573\n"
     ]
    }
   ],
   "source": [
    "import sys\n",
    "import os\n",
    "\n",
    "sys.path.append(os.path.abspath('C:/Users/Axel/Desktop/Practica-Biblioteca'))\n",
    "\n",
    "from src import lectura, conversor\n",
    "import pandas as pd\n",
    "\n"
   ]
  },
  {
   "cell_type": "markdown",
   "metadata": {},
   "source": [
    "## Analisis de libros total koha"
   ]
  },
  {
   "cell_type": "code",
   "execution_count": 2,
   "metadata": {},
   "outputs": [
    {
     "name": "stdout",
     "output_type": "stream",
     "text": [
      "Archivo C:/Users/Axel/Desktop/Practica-Biblioteca/data/crudos/total_koha.csv leído con éxito.\n"
     ]
    }
   ],
   "source": [
    "libros_total_koha = lectura.leer_csv('C:/Users/Axel/Desktop/Practica-Biblioteca/data/crudos/total_koha.csv')"
   ]
  },
  {
   "cell_type": "code",
   "execution_count": 3,
   "metadata": {},
   "outputs": [
    {
     "data": {
      "text/html": [
       "<div>\n",
       "<style scoped>\n",
       "    .dataframe tbody tr th:only-of-type {\n",
       "        vertical-align: middle;\n",
       "    }\n",
       "\n",
       "    .dataframe tbody tr th {\n",
       "        vertical-align: top;\n",
       "    }\n",
       "\n",
       "    .dataframe thead th {\n",
       "        text-align: right;\n",
       "    }\n",
       "</style>\n",
       "<table border=\"1\" class=\"dataframe\">\n",
       "  <thead>\n",
       "    <tr style=\"text-align: right;\">\n",
       "      <th></th>\n",
       "      <th>barcode</th>\n",
       "      <th>dateaccessioned</th>\n",
       "      <th>booksellerid</th>\n",
       "      <th>homebranch</th>\n",
       "      <th>price</th>\n",
       "      <th>replacementprice</th>\n",
       "      <th>itemcallnumber</th>\n",
       "      <th>holdingbranch</th>\n",
       "      <th>title</th>\n",
       "      <th>author</th>\n",
       "      <th>isbn</th>\n",
       "    </tr>\n",
       "  </thead>\n",
       "  <tbody>\n",
       "    <tr>\n",
       "      <th>0</th>\n",
       "      <td>7230</td>\n",
       "      <td>2024-04-22</td>\n",
       "      <td>NaN</td>\n",
       "      <td>FING</td>\n",
       "      <td>NaN</td>\n",
       "      <td>NaN</td>\n",
       "      <td>32</td>\n",
       "      <td>FING</td>\n",
       "      <td>Chaos :</td>\n",
       "      <td>Alligood, Kathleen T.</td>\n",
       "      <td>0387946772</td>\n",
       "    </tr>\n",
       "    <tr>\n",
       "      <th>1</th>\n",
       "      <td>7231</td>\n",
       "      <td>2024-04-22</td>\n",
       "      <td>NaN</td>\n",
       "      <td>FING</td>\n",
       "      <td>NaN</td>\n",
       "      <td>NaN</td>\n",
       "      <td>32</td>\n",
       "      <td>FING</td>\n",
       "      <td>Analysis of observed chaotic data /</td>\n",
       "      <td>Abarbanel, H. D. I</td>\n",
       "      <td>0387983724</td>\n",
       "    </tr>\n",
       "    <tr>\n",
       "      <th>2</th>\n",
       "      <td>7229</td>\n",
       "      <td>2024-02-26</td>\n",
       "      <td>NaN</td>\n",
       "      <td>FING</td>\n",
       "      <td>NaN</td>\n",
       "      <td>NaN</td>\n",
       "      <td>50</td>\n",
       "      <td>FING</td>\n",
       "      <td>Proactive innovation :</td>\n",
       "      <td>Richter, Sergio Raúl</td>\n",
       "      <td>9798861825221</td>\n",
       "    </tr>\n",
       "    <tr>\n",
       "      <th>3</th>\n",
       "      <td>L578</td>\n",
       "      <td>2023-11-08</td>\n",
       "      <td>NaN</td>\n",
       "      <td>FING</td>\n",
       "      <td>NaN</td>\n",
       "      <td>NaN</td>\n",
       "      <td>80</td>\n",
       "      <td>FING</td>\n",
       "      <td>GMP qualification and validation of facilities...</td>\n",
       "      <td>NaN</td>\n",
       "      <td>NaN</td>\n",
       "    </tr>\n",
       "    <tr>\n",
       "      <th>4</th>\n",
       "      <td>7222</td>\n",
       "      <td>2023-10-02</td>\n",
       "      <td>NaN</td>\n",
       "      <td>FING</td>\n",
       "      <td>NaN</td>\n",
       "      <td>NaN</td>\n",
       "      <td>49</td>\n",
       "      <td>FING</td>\n",
       "      <td>Introducción a la economía de la salud para in...</td>\n",
       "      <td>Martínez Licona, Fabiola Margarita</td>\n",
       "      <td>9786072813410</td>\n",
       "    </tr>\n",
       "  </tbody>\n",
       "</table>\n",
       "</div>"
      ],
      "text/plain": [
       "  barcode dateaccessioned  booksellerid homebranch  price  replacementprice  \\\n",
       "0    7230      2024-04-22           NaN       FING    NaN               NaN   \n",
       "1    7231      2024-04-22           NaN       FING    NaN               NaN   \n",
       "2    7229      2024-02-26           NaN       FING    NaN               NaN   \n",
       "3    L578      2023-11-08           NaN       FING    NaN               NaN   \n",
       "4    7222      2023-10-02           NaN       FING    NaN               NaN   \n",
       "\n",
       "  itemcallnumber holdingbranch  \\\n",
       "0             32          FING   \n",
       "1             32          FING   \n",
       "2             50          FING   \n",
       "3             80          FING   \n",
       "4             49          FING   \n",
       "\n",
       "                                               title  \\\n",
       "0                                            Chaos :   \n",
       "1                Analysis of observed chaotic data /   \n",
       "2                             Proactive innovation :   \n",
       "3  GMP qualification and validation of facilities...   \n",
       "4  Introducción a la economía de la salud para in...   \n",
       "\n",
       "                               author           isbn  \n",
       "0               Alligood, Kathleen T.     0387946772  \n",
       "1                  Abarbanel, H. D. I     0387983724  \n",
       "2                Richter, Sergio Raúl  9798861825221  \n",
       "3                                 NaN            NaN  \n",
       "4  Martínez Licona, Fabiola Margarita  9786072813410  "
      ]
     },
     "execution_count": 3,
     "metadata": {},
     "output_type": "execute_result"
    }
   ],
   "source": [
    "libros_total_koha.head()"
   ]
  },
  {
   "cell_type": "code",
   "execution_count": 4,
   "metadata": {},
   "outputs": [
    {
     "name": "stdout",
     "output_type": "stream",
     "text": [
      "<class 'pandas.core.frame.DataFrame'>\n",
      "RangeIndex: 4326 entries, 0 to 4325\n",
      "Data columns (total 11 columns):\n",
      " #   Column            Non-Null Count  Dtype  \n",
      "---  ------            --------------  -----  \n",
      " 0   barcode           4326 non-null   object \n",
      " 1   dateaccessioned   4326 non-null   object \n",
      " 2   booksellerid      0 non-null      float64\n",
      " 3   homebranch        4326 non-null   object \n",
      " 4   price             103 non-null    float64\n",
      " 5   replacementprice  1 non-null      float64\n",
      " 6   itemcallnumber    4311 non-null   object \n",
      " 7   holdingbranch     4326 non-null   object \n",
      " 8   title             4326 non-null   object \n",
      " 9   author            3857 non-null   object \n",
      " 10  isbn              3413 non-null   object \n",
      "dtypes: float64(3), object(8)\n",
      "memory usage: 371.9+ KB\n"
     ]
    }
   ],
   "source": [
    "libros_total_koha.info() #informacion de los datos\n"
   ]
  },
  {
   "cell_type": "code",
   "execution_count": 5,
   "metadata": {},
   "outputs": [
    {
     "name": "stdout",
     "output_type": "stream",
     "text": [
      "       barcode dateaccessioned homebranch itemcallnumber holdingbranch  \\\n",
      "count     4326            4326       4326           4311          4326   \n",
      "unique    4326              84          1             83             1   \n",
      "top       7027      2018-08-07       FING             25          FING   \n",
      "freq         1            4142       4326            172          4326   \n",
      "\n",
      "            title          author           isbn  \n",
      "count        4326            3857           3413  \n",
      "unique       2355            1795           2020  \n",
      "top     Cálculo :  Di Paolo, José  9789872923501  \n",
      "freq           52              54             50  \n"
     ]
    }
   ],
   "source": [
    "# Mostrar un resumen descriptivo de las variables cualitativas\n",
    "print(libros_total_koha.describe(include='object'))"
   ]
  },
  {
   "cell_type": "code",
   "execution_count": 6,
   "metadata": {},
   "outputs": [
    {
     "name": "stdout",
     "output_type": "stream",
     "text": [
      "Validando calidad de datos del archivo...\n",
      "Informacion de los datos\n",
      "<class 'pandas.core.frame.DataFrame'>\n",
      "RangeIndex: 4326 entries, 0 to 4325\n",
      "Data columns (total 11 columns):\n",
      " #   Column            Non-Null Count  Dtype  \n",
      "---  ------            --------------  -----  \n",
      " 0   barcode           4326 non-null   object \n",
      " 1   dateaccessioned   4326 non-null   object \n",
      " 2   booksellerid      0 non-null      float64\n",
      " 3   homebranch        4326 non-null   object \n",
      " 4   price             103 non-null    float64\n",
      " 5   replacementprice  1 non-null      float64\n",
      " 6   itemcallnumber    4311 non-null   object \n",
      " 7   holdingbranch     4326 non-null   object \n",
      " 8   title             4326 non-null   object \n",
      " 9   author            3857 non-null   object \n",
      " 10  isbn              3413 non-null   object \n",
      "dtypes: float64(3), object(8)\n",
      "memory usage: 371.9+ KB\n",
      "Valores faltantes: 14271\n",
      "Filas duplicadas: 0\n"
     ]
    }
   ],
   "source": [
    "lectura.validar_calidad(libros_total_koha) #validar la calidad de los datos"
   ]
  },
  {
   "cell_type": "markdown",
   "metadata": {},
   "source": [
    "* Se determina que las metricas necesarias para este analisis son \"TItile, Author, ISBN\"\n",
    "\n",
    "Note como ahora si aparecen valores duplicados, esto se debe que antes la variable \"barcode\" era un unicode, es decir para cada observacion presentaba un id, esto termino siendo un problema ya que si hay filas duplicas pero por el barcode era imposible detectar.\n",
    "\n",
    "Una vez detectado esos valores duplicados los eliminamos"
   ]
  },
  {
   "cell_type": "code",
   "execution_count": 7,
   "metadata": {},
   "outputs": [
    {
     "name": "stdout",
     "output_type": "stream",
     "text": [
      "Validando calidad de datos del archivo...\n",
      "Informacion de los datos\n",
      "<class 'pandas.core.frame.DataFrame'>\n",
      "RangeIndex: 4326 entries, 0 to 4325\n",
      "Data columns (total 3 columns):\n",
      " #   Column  Non-Null Count  Dtype \n",
      "---  ------  --------------  ----- \n",
      " 0   title   4326 non-null   object\n",
      " 1   author  3857 non-null   object\n",
      " 2   isbn    3413 non-null   object\n",
      "dtypes: object(3)\n",
      "memory usage: 101.5+ KB\n",
      "Valores faltantes: 1382\n",
      "Filas duplicadas: 1618\n"
     ]
    }
   ],
   "source": [
    "libros_t2 = libros_total_koha[['title','author','isbn']]\n",
    "lectura.validar_calidad(libros_t2) # Verificar calidad de los datos"
   ]
  },
  {
   "cell_type": "code",
   "execution_count": 8,
   "metadata": {},
   "outputs": [],
   "source": [
    "libros_t2 = libros_t2.drop_duplicates() # Eliminar duplicados"
   ]
  },
  {
   "cell_type": "markdown",
   "metadata": {},
   "source": [
    "* Note que hay observaciones donde hay mas de un ISBN\n",
    "Esto se debe a disntas razones, el primer isbn es de diez digitos y el segundo de trece o el segundo digito indica a la obra completa (o.c).\n",
    "\n",
    "En ambos casos en conveniente quedarse con el primer ISBN presente.\n",
    "\n"
   ]
  },
  {
   "cell_type": "code",
   "execution_count": 9,
   "metadata": {},
   "outputs": [
    {
     "data": {
      "text/html": [
       "<div>\n",
       "<style scoped>\n",
       "    .dataframe tbody tr th:only-of-type {\n",
       "        vertical-align: middle;\n",
       "    }\n",
       "\n",
       "    .dataframe tbody tr th {\n",
       "        vertical-align: top;\n",
       "    }\n",
       "\n",
       "    .dataframe thead th {\n",
       "        text-align: right;\n",
       "    }\n",
       "</style>\n",
       "<table border=\"1\" class=\"dataframe\">\n",
       "  <thead>\n",
       "    <tr style=\"text-align: right;\">\n",
       "      <th></th>\n",
       "      <th>title</th>\n",
       "      <th>author</th>\n",
       "      <th>isbn</th>\n",
       "    </tr>\n",
       "  </thead>\n",
       "  <tbody>\n",
       "    <tr>\n",
       "      <th>16</th>\n",
       "      <td>Electrónica digital :</td>\n",
       "      <td>NaN</td>\n",
       "      <td>847897735X | 9788478977352 (ISBN 13)</td>\n",
       "    </tr>\n",
       "    <tr>\n",
       "      <th>35</th>\n",
       "      <td>Técnicas de prevención en la generación de sue...</td>\n",
       "      <td>NaN</td>\n",
       "      <td>8489650721 | 8489650802</td>\n",
       "    </tr>\n",
       "    <tr>\n",
       "      <th>36</th>\n",
       "      <td>Técnicas de prevención en la generación de sue...</td>\n",
       "      <td>NaN</td>\n",
       "      <td>848965073X | 8489650802</td>\n",
       "    </tr>\n",
       "    <tr>\n",
       "      <th>225</th>\n",
       "      <td>Elementos de cálculo diferencial e integral: c...</td>\n",
       "      <td>Sadosky, Manuel</td>\n",
       "      <td>9505530013 | 9505530005</td>\n",
       "    </tr>\n",
       "    <tr>\n",
       "      <th>233</th>\n",
       "      <td>Elementos de cálculo diferencial e integral: c...</td>\n",
       "      <td>Sadosky, Manuel</td>\n",
       "      <td>9500530031 | 9500530007</td>\n",
       "    </tr>\n",
       "  </tbody>\n",
       "</table>\n",
       "</div>"
      ],
      "text/plain": [
       "                                                 title           author  \\\n",
       "16                               Electrónica digital :              NaN   \n",
       "35   Técnicas de prevención en la generación de sue...              NaN   \n",
       "36   Técnicas de prevención en la generación de sue...              NaN   \n",
       "225  Elementos de cálculo diferencial e integral: c...  Sadosky, Manuel   \n",
       "233  Elementos de cálculo diferencial e integral: c...  Sadosky, Manuel   \n",
       "\n",
       "                                     isbn  \n",
       "16   847897735X | 9788478977352 (ISBN 13)  \n",
       "35                8489650721 | 8489650802  \n",
       "36                848965073X | 8489650802  \n",
       "225               9505530013 | 9505530005  \n",
       "233               9500530031 | 9500530007  "
      ]
     },
     "execution_count": 9,
     "metadata": {},
     "output_type": "execute_result"
    }
   ],
   "source": [
    "filas_isbn_largo = libros_t2[libros_t2['isbn'].apply(lambda x: len(str(x)) > 13)]\n",
    "filas_isbn_largo.head()\n"
   ]
  },
  {
   "cell_type": "code",
   "execution_count": 10,
   "metadata": {},
   "outputs": [],
   "source": [
    "# Separar los ISBNs si están separados por espacio o \"|\", quedándonos con el primero\n",
    "libros_t2['isbn'] = libros_t2['isbn'].str.split('|').str[0].str.strip()"
   ]
  },
  {
   "cell_type": "markdown",
   "metadata": {},
   "source": [
    "* Ahora vamos a convertir los isbn de 10 digitos a 13. Esto se hace gracias a la funcion 'Convertir_isbn' del modulo Conversor."
   ]
  },
  {
   "cell_type": "code",
   "execution_count": 11,
   "metadata": {},
   "outputs": [
    {
     "data": {
      "text/html": [
       "<div>\n",
       "<style scoped>\n",
       "    .dataframe tbody tr th:only-of-type {\n",
       "        vertical-align: middle;\n",
       "    }\n",
       "\n",
       "    .dataframe tbody tr th {\n",
       "        vertical-align: top;\n",
       "    }\n",
       "\n",
       "    .dataframe thead th {\n",
       "        text-align: right;\n",
       "    }\n",
       "</style>\n",
       "<table border=\"1\" class=\"dataframe\">\n",
       "  <thead>\n",
       "    <tr style=\"text-align: right;\">\n",
       "      <th></th>\n",
       "      <th>title</th>\n",
       "      <th>author</th>\n",
       "      <th>isbn</th>\n",
       "    </tr>\n",
       "  </thead>\n",
       "  <tbody>\n",
       "    <tr>\n",
       "      <th>0</th>\n",
       "      <td>Chaos :</td>\n",
       "      <td>Alligood, Kathleen T.</td>\n",
       "      <td>9780387946771</td>\n",
       "    </tr>\n",
       "    <tr>\n",
       "      <th>1</th>\n",
       "      <td>Analysis of observed chaotic data /</td>\n",
       "      <td>Abarbanel, H. D. I</td>\n",
       "      <td>9780387983721</td>\n",
       "    </tr>\n",
       "    <tr>\n",
       "      <th>2</th>\n",
       "      <td>Proactive innovation :</td>\n",
       "      <td>Richter, Sergio Raúl</td>\n",
       "      <td>9798861825221</td>\n",
       "    </tr>\n",
       "    <tr>\n",
       "      <th>3</th>\n",
       "      <td>GMP qualification and validation of facilities...</td>\n",
       "      <td>NaN</td>\n",
       "      <td>NaN</td>\n",
       "    </tr>\n",
       "    <tr>\n",
       "      <th>4</th>\n",
       "      <td>Introducción a la economía de la salud para in...</td>\n",
       "      <td>Martínez Licona, Fabiola Margarita</td>\n",
       "      <td>9786072813410</td>\n",
       "    </tr>\n",
       "  </tbody>\n",
       "</table>\n",
       "</div>"
      ],
      "text/plain": [
       "                                               title  \\\n",
       "0                                            Chaos :   \n",
       "1                Analysis of observed chaotic data /   \n",
       "2                             Proactive innovation :   \n",
       "3  GMP qualification and validation of facilities...   \n",
       "4  Introducción a la economía de la salud para in...   \n",
       "\n",
       "                               author           isbn  \n",
       "0               Alligood, Kathleen T.  9780387946771  \n",
       "1                  Abarbanel, H. D. I  9780387983721  \n",
       "2                Richter, Sergio Raúl  9798861825221  \n",
       "3                                 NaN            NaN  \n",
       "4  Martínez Licona, Fabiola Margarita  9786072813410  "
      ]
     },
     "execution_count": 11,
     "metadata": {},
     "output_type": "execute_result"
    }
   ],
   "source": [
    "new_libros = conversor.convertir_isbn(libros_t2,'isbn') # Convertir los ISBNs a 13 dígitos\n",
    "\n",
    "\n",
    "new_libros.head() #Libros con los ISBN convertidos a 13 digitos"
   ]
  },
  {
   "cell_type": "markdown",
   "metadata": {},
   "source": [
    "*Un problema detectado es que hay observaciones donde presetan el mismo titulo y autor pero una observacion de ellas no tiene ISBN cargado, lo que significa que son datos iguales pero no se detectan. Decidi hacer una funcion que verifique si el titulo y autor coincide con otra observacion y esta tiene isbn, eliminara la que no tiene un valor en isbn"
   ]
  },
  {
   "cell_type": "code",
   "execution_count": 12,
   "metadata": {},
   "outputs": [],
   "source": [
    "new_libros = conversor.eliminar_filas_sin_isbn(new_libros) # Eliminar filas sin ISBN pero con título y autor presentes en otras filas"
   ]
  },
  {
   "cell_type": "markdown",
   "metadata": {},
   "source": [
    "A continuacion contrastaremos el df actual con el df \"junto\" estos se debe a que es posible de que nuestro df contenga folletos o articulos proveniente de congresos o similares. Estos no deben ser tomado en cuenta en nuestro analisis final\n",
    "\n",
    "Para ello el csv 'junto' contiene el listado con los titulos de este tipo de categoria, lo utilizaremos para constrastar con el df raiz para dectectar y eliminar."
   ]
  },
  {
   "cell_type": "code",
   "execution_count": 13,
   "metadata": {},
   "outputs": [],
   "source": [
    "# Leer el archivo junto.csv\n",
    "junto_df = pd.read_csv('C:/Users/Axel/Desktop/Practica-Biblioteca/data/procesados/junto.csv') # Archivo con los datos concatenados para buscar coincidencias, si lo hay eliminarlos\n",
    "\n",
    "# Filtrar el DataFrame new_libros para encontrar coincidencias\n",
    "new_libros = new_libros[~new_libros['title'].isin(junto_df['title'])]"
   ]
  },
  {
   "cell_type": "code",
   "execution_count": 14,
   "metadata": {},
   "outputs": [
    {
     "name": "stdout",
     "output_type": "stream",
     "text": [
      "<class 'pandas.core.frame.DataFrame'>\n",
      "Index: 1907 entries, 0 to 4324\n",
      "Data columns (total 3 columns):\n",
      " #   Column  Non-Null Count  Dtype \n",
      "---  ------  --------------  ----- \n",
      " 0   title   1907 non-null   object\n",
      " 1   author  1907 non-null   object\n",
      " 2   isbn    1907 non-null   object\n",
      "dtypes: object(3)\n",
      "memory usage: 59.6+ KB\n"
     ]
    }
   ],
   "source": [
    "new_libros = new_libros.dropna() # Eliminar filas con valores nulos\n",
    "new_libros.info()\n"
   ]
  },
  {
   "cell_type": "code",
   "execution_count": 16,
   "metadata": {},
   "outputs": [],
   "source": [
    "#agregar columna de origen (koha, koha_cosulta, bidi)\n",
    "new_libros['origen'] = 'koha'"
   ]
  },
  {
   "cell_type": "code",
   "execution_count": 17,
   "metadata": {},
   "outputs": [],
   "source": [
    "#Escritura de los datos limpios\n",
    "new_libros.to_csv('C:/Users/Axel/Desktop/Practica-Biblioteca/data/procesados/libros_total_koha.csv', index=False) # Guardar el archivo en formato CSV"
   ]
  },
  {
   "cell_type": "markdown",
   "metadata": {},
   "source": [
    "*NOTA.\n",
    "*Hacer constraste con los titulos que SI van. seguramente no hay coincidencias\n",
    "*sigo teniendo isbn faltante, ya considerar en eliminar\n",
    "*Escribir el csv resultante de este archivo"
   ]
  },
  {
   "cell_type": "markdown",
   "metadata": {},
   "source": [
    "## Analis sobre libros de consulta en Koha"
   ]
  },
  {
   "cell_type": "code",
   "execution_count": 18,
   "metadata": {},
   "outputs": [
    {
     "name": "stdout",
     "output_type": "stream",
     "text": [
      "Archivo C:/Users/Axel/Desktop/Practica-Biblioteca/data/crudos/consulta_koha.csv leído con éxito.\n"
     ]
    }
   ],
   "source": [
    "consulta_koha = lectura.leer_csv('C:/Users/Axel/Desktop/Practica-Biblioteca/data/crudos/consulta_koha.csv')"
   ]
  },
  {
   "cell_type": "code",
   "execution_count": 19,
   "metadata": {},
   "outputs": [
    {
     "data": {
      "text/html": [
       "<div>\n",
       "<style scoped>\n",
       "    .dataframe tbody tr th:only-of-type {\n",
       "        vertical-align: middle;\n",
       "    }\n",
       "\n",
       "    .dataframe tbody tr th {\n",
       "        vertical-align: top;\n",
       "    }\n",
       "\n",
       "    .dataframe thead th {\n",
       "        text-align: right;\n",
       "    }\n",
       "</style>\n",
       "<table border=\"1\" class=\"dataframe\">\n",
       "  <thead>\n",
       "    <tr style=\"text-align: right;\">\n",
       "      <th></th>\n",
       "      <th>barcode</th>\n",
       "      <th>dateaccessioned</th>\n",
       "      <th>booksellerid</th>\n",
       "      <th>homebranch</th>\n",
       "      <th>price</th>\n",
       "      <th>replacementprice</th>\n",
       "      <th>itemcallnumber</th>\n",
       "      <th>holdingbranch</th>\n",
       "      <th>title</th>\n",
       "      <th>author</th>\n",
       "      <th>isbn</th>\n",
       "    </tr>\n",
       "  </thead>\n",
       "  <tbody>\n",
       "    <tr>\n",
       "      <th>0</th>\n",
       "      <td>7232</td>\n",
       "      <td>2024-04-24</td>\n",
       "      <td>NaN</td>\n",
       "      <td>FING</td>\n",
       "      <td>NaN</td>\n",
       "      <td>NaN</td>\n",
       "      <td>32</td>\n",
       "      <td>FING</td>\n",
       "      <td>Chaotic evolution and strange attractors :</td>\n",
       "      <td>Ruelle, David.</td>\n",
       "      <td>0521368308 (pbk.)</td>\n",
       "    </tr>\n",
       "    <tr>\n",
       "      <th>1</th>\n",
       "      <td>7233</td>\n",
       "      <td>2024-04-24</td>\n",
       "      <td>NaN</td>\n",
       "      <td>FING</td>\n",
       "      <td>NaN</td>\n",
       "      <td>NaN</td>\n",
       "      <td>32</td>\n",
       "      <td>FING</td>\n",
       "      <td>Chaotic and fractal dynamics :</td>\n",
       "      <td>Moon, F. C.,</td>\n",
       "      <td>0471545716</td>\n",
       "    </tr>\n",
       "    <tr>\n",
       "      <th>2</th>\n",
       "      <td>7228</td>\n",
       "      <td>2023-10-11</td>\n",
       "      <td>NaN</td>\n",
       "      <td>FING</td>\n",
       "      <td>NaN</td>\n",
       "      <td>NaN</td>\n",
       "      <td>89</td>\n",
       "      <td>FING</td>\n",
       "      <td>Científicas de acá :</td>\n",
       "      <td>NaN</td>\n",
       "      <td>9786319002416</td>\n",
       "    </tr>\n",
       "    <tr>\n",
       "      <th>3</th>\n",
       "      <td>7224</td>\n",
       "      <td>2023-10-09</td>\n",
       "      <td>NaN</td>\n",
       "      <td>FING</td>\n",
       "      <td>18500.0</td>\n",
       "      <td>NaN</td>\n",
       "      <td>15</td>\n",
       "      <td>FING</td>\n",
       "      <td>Óptica /</td>\n",
       "      <td>Hecht, Eugene</td>\n",
       "      <td>9788490354926</td>\n",
       "    </tr>\n",
       "    <tr>\n",
       "      <th>4</th>\n",
       "      <td>7225</td>\n",
       "      <td>2023-10-09</td>\n",
       "      <td>NaN</td>\n",
       "      <td>FING</td>\n",
       "      <td>17500.0</td>\n",
       "      <td>NaN</td>\n",
       "      <td>15</td>\n",
       "      <td>FING</td>\n",
       "      <td>Sears y Zemansky Física universitaria :</td>\n",
       "      <td>Young, Hugh D.</td>\n",
       "      <td>9786073221900</td>\n",
       "    </tr>\n",
       "  </tbody>\n",
       "</table>\n",
       "</div>"
      ],
      "text/plain": [
       "  barcode dateaccessioned  booksellerid homebranch    price  replacementprice  \\\n",
       "0    7232      2024-04-24           NaN       FING      NaN               NaN   \n",
       "1    7233      2024-04-24           NaN       FING      NaN               NaN   \n",
       "2    7228      2023-10-11           NaN       FING      NaN               NaN   \n",
       "3    7224      2023-10-09           NaN       FING  18500.0               NaN   \n",
       "4    7225      2023-10-09           NaN       FING  17500.0               NaN   \n",
       "\n",
       "  itemcallnumber holdingbranch                                       title  \\\n",
       "0             32          FING  Chaotic evolution and strange attractors :   \n",
       "1             32          FING              Chaotic and fractal dynamics :   \n",
       "2             89          FING                        Científicas de acá :   \n",
       "3             15          FING                                    Óptica /   \n",
       "4             15          FING     Sears y Zemansky Física universitaria :   \n",
       "\n",
       "           author               isbn  \n",
       "0  Ruelle, David.  0521368308 (pbk.)  \n",
       "1    Moon, F. C.,         0471545716  \n",
       "2             NaN      9786319002416  \n",
       "3   Hecht, Eugene      9788490354926  \n",
       "4  Young, Hugh D.      9786073221900  "
      ]
     },
     "execution_count": 19,
     "metadata": {},
     "output_type": "execute_result"
    }
   ],
   "source": [
    "consulta_koha.head() # Mostrar los primerosregistros"
   ]
  },
  {
   "cell_type": "code",
   "execution_count": 20,
   "metadata": {},
   "outputs": [
    {
     "name": "stdout",
     "output_type": "stream",
     "text": [
      "<class 'pandas.core.frame.DataFrame'>\n",
      "RangeIndex: 1548 entries, 0 to 1547\n",
      "Data columns (total 11 columns):\n",
      " #   Column            Non-Null Count  Dtype  \n",
      "---  ------            --------------  -----  \n",
      " 0   barcode           1548 non-null   object \n",
      " 1   dateaccessioned   1548 non-null   object \n",
      " 2   booksellerid      0 non-null      float64\n",
      " 3   homebranch        1548 non-null   object \n",
      " 4   price             159 non-null    float64\n",
      " 5   replacementprice  2 non-null      float64\n",
      " 6   itemcallnumber    1548 non-null   object \n",
      " 7   holdingbranch     1548 non-null   object \n",
      " 8   title             1548 non-null   object \n",
      " 9   author            1294 non-null   object \n",
      " 10  isbn              1194 non-null   object \n",
      "dtypes: float64(3), object(8)\n",
      "memory usage: 133.2+ KB\n"
     ]
    }
   ],
   "source": [
    "consulta_koha.info() # Información de los datos"
   ]
  },
  {
   "cell_type": "code",
   "execution_count": 21,
   "metadata": {},
   "outputs": [
    {
     "data": {
      "text/html": [
       "<div>\n",
       "<style scoped>\n",
       "    .dataframe tbody tr th:only-of-type {\n",
       "        vertical-align: middle;\n",
       "    }\n",
       "\n",
       "    .dataframe tbody tr th {\n",
       "        vertical-align: top;\n",
       "    }\n",
       "\n",
       "    .dataframe thead th {\n",
       "        text-align: right;\n",
       "    }\n",
       "</style>\n",
       "<table border=\"1\" class=\"dataframe\">\n",
       "  <thead>\n",
       "    <tr style=\"text-align: right;\">\n",
       "      <th></th>\n",
       "      <th>barcode</th>\n",
       "      <th>dateaccessioned</th>\n",
       "      <th>homebranch</th>\n",
       "      <th>itemcallnumber</th>\n",
       "      <th>holdingbranch</th>\n",
       "      <th>title</th>\n",
       "      <th>author</th>\n",
       "      <th>isbn</th>\n",
       "    </tr>\n",
       "  </thead>\n",
       "  <tbody>\n",
       "    <tr>\n",
       "      <th>count</th>\n",
       "      <td>1548</td>\n",
       "      <td>1548</td>\n",
       "      <td>1548</td>\n",
       "      <td>1548</td>\n",
       "      <td>1548</td>\n",
       "      <td>1548</td>\n",
       "      <td>1294</td>\n",
       "      <td>1194</td>\n",
       "    </tr>\n",
       "    <tr>\n",
       "      <th>unique</th>\n",
       "      <td>1548</td>\n",
       "      <td>81</td>\n",
       "      <td>1</td>\n",
       "      <td>69</td>\n",
       "      <td>1</td>\n",
       "      <td>1376</td>\n",
       "      <td>1037</td>\n",
       "      <td>1184</td>\n",
       "    </tr>\n",
       "    <tr>\n",
       "      <th>top</th>\n",
       "      <td>F519</td>\n",
       "      <td>2018-08-07</td>\n",
       "      <td>FING</td>\n",
       "      <td>99</td>\n",
       "      <td>FING</td>\n",
       "      <td>Cálculo :</td>\n",
       "      <td>Spiegel, Murray R.</td>\n",
       "      <td>082183780X</td>\n",
       "    </tr>\n",
       "    <tr>\n",
       "      <th>freq</th>\n",
       "      <td>1</td>\n",
       "      <td>1368</td>\n",
       "      <td>1548</td>\n",
       "      <td>68</td>\n",
       "      <td>1548</td>\n",
       "      <td>9</td>\n",
       "      <td>13</td>\n",
       "      <td>2</td>\n",
       "    </tr>\n",
       "  </tbody>\n",
       "</table>\n",
       "</div>"
      ],
      "text/plain": [
       "       barcode dateaccessioned homebranch itemcallnumber holdingbranch  \\\n",
       "count     1548            1548       1548           1548          1548   \n",
       "unique    1548              81          1             69             1   \n",
       "top       F519      2018-08-07       FING             99          FING   \n",
       "freq         1            1368       1548             68          1548   \n",
       "\n",
       "            title              author        isbn  \n",
       "count        1548                1294        1194  \n",
       "unique       1376                1037        1184  \n",
       "top     Cálculo :  Spiegel, Murray R.  082183780X  \n",
       "freq            9                  13           2  "
      ]
     },
     "execution_count": 21,
     "metadata": {},
     "output_type": "execute_result"
    }
   ],
   "source": [
    "# Mostrar un resumen descriptivo de las variables cualitativas\n",
    "consulta_koha.describe(include='object')"
   ]
  },
  {
   "cell_type": "code",
   "execution_count": 22,
   "metadata": {},
   "outputs": [
    {
     "name": "stdout",
     "output_type": "stream",
     "text": [
      "Validando calidad de datos del archivo...\n",
      "Informacion de los datos\n",
      "<class 'pandas.core.frame.DataFrame'>\n",
      "RangeIndex: 1548 entries, 0 to 1547\n",
      "Data columns (total 11 columns):\n",
      " #   Column            Non-Null Count  Dtype  \n",
      "---  ------            --------------  -----  \n",
      " 0   barcode           1548 non-null   object \n",
      " 1   dateaccessioned   1548 non-null   object \n",
      " 2   booksellerid      0 non-null      float64\n",
      " 3   homebranch        1548 non-null   object \n",
      " 4   price             159 non-null    float64\n",
      " 5   replacementprice  2 non-null      float64\n",
      " 6   itemcallnumber    1548 non-null   object \n",
      " 7   holdingbranch     1548 non-null   object \n",
      " 8   title             1548 non-null   object \n",
      " 9   author            1294 non-null   object \n",
      " 10  isbn              1194 non-null   object \n",
      "dtypes: float64(3), object(8)\n",
      "memory usage: 133.2+ KB\n",
      "Valores faltantes: 5091\n",
      "Filas duplicadas: 0\n"
     ]
    }
   ],
   "source": [
    "lectura.validar_calidad(consulta_koha) #validar la calidad de los datos"
   ]
  },
  {
   "cell_type": "code",
   "execution_count": 23,
   "metadata": {},
   "outputs": [
    {
     "name": "stdout",
     "output_type": "stream",
     "text": [
      "Validando calidad de datos del archivo...\n",
      "Informacion de los datos\n",
      "<class 'pandas.core.frame.DataFrame'>\n",
      "RangeIndex: 1548 entries, 0 to 1547\n",
      "Data columns (total 3 columns):\n",
      " #   Column  Non-Null Count  Dtype \n",
      "---  ------  --------------  ----- \n",
      " 0   title   1548 non-null   object\n",
      " 1   author  1294 non-null   object\n",
      " 2   isbn    1194 non-null   object\n",
      "dtypes: object(3)\n",
      "memory usage: 36.4+ KB\n",
      "Valores faltantes: 608\n",
      "Filas duplicadas: 25\n"
     ]
    }
   ],
   "source": [
    "libros_c = consulta_koha[['title','author','isbn']]\n",
    "lectura.validar_calidad(libros_c) # Verificar calidad de los datos"
   ]
  },
  {
   "cell_type": "code",
   "execution_count": 24,
   "metadata": {},
   "outputs": [],
   "source": [
    "libros_c = libros_c.drop_duplicates() # Eliminar duplicados"
   ]
  },
  {
   "cell_type": "code",
   "execution_count": 25,
   "metadata": {},
   "outputs": [
    {
     "data": {
      "text/html": [
       "<div>\n",
       "<style scoped>\n",
       "    .dataframe tbody tr th:only-of-type {\n",
       "        vertical-align: middle;\n",
       "    }\n",
       "\n",
       "    .dataframe tbody tr th {\n",
       "        vertical-align: top;\n",
       "    }\n",
       "\n",
       "    .dataframe thead th {\n",
       "        text-align: right;\n",
       "    }\n",
       "</style>\n",
       "<table border=\"1\" class=\"dataframe\">\n",
       "  <thead>\n",
       "    <tr style=\"text-align: right;\">\n",
       "      <th></th>\n",
       "      <th>title</th>\n",
       "      <th>author</th>\n",
       "      <th>isbn</th>\n",
       "    </tr>\n",
       "  </thead>\n",
       "  <tbody>\n",
       "    <tr>\n",
       "      <th>0</th>\n",
       "      <td>Chaotic evolution and strange attractors :</td>\n",
       "      <td>Ruelle, David.</td>\n",
       "      <td>0521368308</td>\n",
       "    </tr>\n",
       "    <tr>\n",
       "      <th>1</th>\n",
       "      <td>Chaotic and fractal dynamics :</td>\n",
       "      <td>Moon, F. C.,</td>\n",
       "      <td>0471545716</td>\n",
       "    </tr>\n",
       "    <tr>\n",
       "      <th>2</th>\n",
       "      <td>Científicas de acá :</td>\n",
       "      <td>NaN</td>\n",
       "      <td>9786319002416</td>\n",
       "    </tr>\n",
       "    <tr>\n",
       "      <th>3</th>\n",
       "      <td>Óptica /</td>\n",
       "      <td>Hecht, Eugene</td>\n",
       "      <td>9788490354926</td>\n",
       "    </tr>\n",
       "    <tr>\n",
       "      <th>4</th>\n",
       "      <td>Sears y Zemansky Física universitaria :</td>\n",
       "      <td>Young, Hugh D.</td>\n",
       "      <td>9786073221900</td>\n",
       "    </tr>\n",
       "  </tbody>\n",
       "</table>\n",
       "</div>"
      ],
      "text/plain": [
       "                                        title          author           isbn\n",
       "0  Chaotic evolution and strange attractors :  Ruelle, David.     0521368308\n",
       "1              Chaotic and fractal dynamics :    Moon, F. C.,     0471545716\n",
       "2                        Científicas de acá :             NaN  9786319002416\n",
       "3                                    Óptica /   Hecht, Eugene  9788490354926\n",
       "4     Sears y Zemansky Física universitaria :  Young, Hugh D.  9786073221900"
      ]
     },
     "execution_count": 25,
     "metadata": {},
     "output_type": "execute_result"
    }
   ],
   "source": [
    "# Separar los ISBNs si están separados por \"|\" o por espacio, quedándonos con el primero\n",
    "libros_c['isbn'] = libros_c['isbn'].str.split(r'[| ]').str[0].str.strip()\n",
    "libros_c.head()"
   ]
  },
  {
   "cell_type": "code",
   "execution_count": 26,
   "metadata": {},
   "outputs": [
    {
     "data": {
      "text/html": [
       "<div>\n",
       "<style scoped>\n",
       "    .dataframe tbody tr th:only-of-type {\n",
       "        vertical-align: middle;\n",
       "    }\n",
       "\n",
       "    .dataframe tbody tr th {\n",
       "        vertical-align: top;\n",
       "    }\n",
       "\n",
       "    .dataframe thead th {\n",
       "        text-align: right;\n",
       "    }\n",
       "</style>\n",
       "<table border=\"1\" class=\"dataframe\">\n",
       "  <thead>\n",
       "    <tr style=\"text-align: right;\">\n",
       "      <th></th>\n",
       "      <th>title</th>\n",
       "      <th>author</th>\n",
       "      <th>isbn</th>\n",
       "    </tr>\n",
       "  </thead>\n",
       "  <tbody>\n",
       "    <tr>\n",
       "      <th>0</th>\n",
       "      <td>Chaotic evolution and strange attractors :</td>\n",
       "      <td>Ruelle, David.</td>\n",
       "      <td>9780521368308</td>\n",
       "    </tr>\n",
       "    <tr>\n",
       "      <th>1</th>\n",
       "      <td>Chaotic and fractal dynamics :</td>\n",
       "      <td>Moon, F. C.,</td>\n",
       "      <td>9780471545712</td>\n",
       "    </tr>\n",
       "    <tr>\n",
       "      <th>2</th>\n",
       "      <td>Científicas de acá :</td>\n",
       "      <td>NaN</td>\n",
       "      <td>9786319002416</td>\n",
       "    </tr>\n",
       "    <tr>\n",
       "      <th>3</th>\n",
       "      <td>Óptica /</td>\n",
       "      <td>Hecht, Eugene</td>\n",
       "      <td>9788490354926</td>\n",
       "    </tr>\n",
       "    <tr>\n",
       "      <th>4</th>\n",
       "      <td>Sears y Zemansky Física universitaria :</td>\n",
       "      <td>Young, Hugh D.</td>\n",
       "      <td>9786073221900</td>\n",
       "    </tr>\n",
       "  </tbody>\n",
       "</table>\n",
       "</div>"
      ],
      "text/plain": [
       "                                        title          author           isbn\n",
       "0  Chaotic evolution and strange attractors :  Ruelle, David.  9780521368308\n",
       "1              Chaotic and fractal dynamics :    Moon, F. C.,  9780471545712\n",
       "2                        Científicas de acá :             NaN  9786319002416\n",
       "3                                    Óptica /   Hecht, Eugene  9788490354926\n",
       "4     Sears y Zemansky Física universitaria :  Young, Hugh D.  9786073221900"
      ]
     },
     "execution_count": 26,
     "metadata": {},
     "output_type": "execute_result"
    }
   ],
   "source": [
    "libros_c2 = conversor.convertir_isbn(libros_c,'isbn') # Convertir los ISBNs a 13 dígitos\n",
    "\n",
    "\n",
    "libros_c2.head() #Libros con los ISBN convertidos a 13 digitos"
   ]
  },
  {
   "cell_type": "code",
   "execution_count": 27,
   "metadata": {},
   "outputs": [],
   "source": [
    "libros_c2 = conversor.eliminar_filas_sin_isbn(libros_c2) # Eliminar filas sin ISBN pero con título y autor presentes en otras filas"
   ]
  },
  {
   "cell_type": "code",
   "execution_count": 28,
   "metadata": {},
   "outputs": [],
   "source": [
    "# Filtrar el DataFrame new_libros para encontrar coincidencias\n",
    "libros_c2 = libros_c2[~libros_c2['title'].isin(junto_df['title'])]"
   ]
  },
  {
   "cell_type": "code",
   "execution_count": 29,
   "metadata": {},
   "outputs": [
    {
     "name": "stdout",
     "output_type": "stream",
     "text": [
      "<class 'pandas.core.frame.DataFrame'>\n",
      "Index: 1495 entries, 0 to 1547\n",
      "Data columns (total 3 columns):\n",
      " #   Column  Non-Null Count  Dtype \n",
      "---  ------  --------------  ----- \n",
      " 0   title   1495 non-null   object\n",
      " 1   author  1271 non-null   object\n",
      " 2   isbn    1179 non-null   object\n",
      "dtypes: object(3)\n",
      "memory usage: 46.7+ KB\n"
     ]
    }
   ],
   "source": [
    "libros_c2.info()"
   ]
  },
  {
   "cell_type": "code",
   "execution_count": 30,
   "metadata": {},
   "outputs": [
    {
     "name": "stdout",
     "output_type": "stream",
     "text": [
      "<class 'pandas.core.frame.DataFrame'>\n",
      "Index: 1105 entries, 0 to 1536\n",
      "Data columns (total 3 columns):\n",
      " #   Column  Non-Null Count  Dtype \n",
      "---  ------  --------------  ----- \n",
      " 0   title   1105 non-null   object\n",
      " 1   author  1105 non-null   object\n",
      " 2   isbn    1105 non-null   object\n",
      "dtypes: object(3)\n",
      "memory usage: 34.5+ KB\n"
     ]
    }
   ],
   "source": [
    "libros_c2 = libros_c2.dropna() # Eliminar filas con valores nulos\n",
    "libros_c2.info()"
   ]
  },
  {
   "cell_type": "code",
   "execution_count": 31,
   "metadata": {},
   "outputs": [],
   "source": [
    "#agregar columna de origen (koha, koha_cosulta, bidi)\n",
    "libros_c2['origen'] = 'koha_consulta'"
   ]
  },
  {
   "cell_type": "code",
   "execution_count": 32,
   "metadata": {},
   "outputs": [],
   "source": [
    "libros_c2.to_csv('C:/Users/Axel/Desktop/Practica-Biblioteca/data/procesados/libros_consulta_koha.csv', index=False)"
   ]
  },
  {
   "cell_type": "markdown",
   "metadata": {},
   "source": [
    "## Analisis sobre Archivo Bidi"
   ]
  },
  {
   "cell_type": "code",
   "execution_count": 10,
   "metadata": {},
   "outputs": [
    {
     "name": "stdout",
     "output_type": "stream",
     "text": [
      "Archivo C:/Users/Axel/Desktop/Practica-Biblioteca/data/crudos/bidi.csv leído con éxito.\n"
     ]
    }
   ],
   "source": [
    "bidi = lectura.leer_csv('C:/Users/Axel/Desktop/Practica-Biblioteca/data/crudos/bidi.csv')"
   ]
  },
  {
   "cell_type": "code",
   "execution_count": 11,
   "metadata": {},
   "outputs": [
    {
     "data": {
      "text/html": [
       "<div>\n",
       "<style scoped>\n",
       "    .dataframe tbody tr th:only-of-type {\n",
       "        vertical-align: middle;\n",
       "    }\n",
       "\n",
       "    .dataframe tbody tr th {\n",
       "        vertical-align: top;\n",
       "    }\n",
       "\n",
       "    .dataframe thead th {\n",
       "        text-align: right;\n",
       "    }\n",
       "</style>\n",
       "<table border=\"1\" class=\"dataframe\">\n",
       "  <thead>\n",
       "    <tr style=\"text-align: right;\">\n",
       "      <th></th>\n",
       "      <th>ID</th>\n",
       "      <th>title</th>\n",
       "      <th>author</th>\n",
       "      <th>isbn</th>\n",
       "      <th>Editorial</th>\n",
       "      <th>Universidad</th>\n",
       "      <th>Numero_licencia</th>\n",
       "      <th>dato</th>\n",
       "      <th>Fecha_vencimiento_lic</th>\n",
       "    </tr>\n",
       "  </thead>\n",
       "  <tbody>\n",
       "    <tr>\n",
       "      <th>0</th>\n",
       "      <td>58930.0</td>\n",
       "      <td>La libertad como tecnología de gobierno. Derec...</td>\n",
       "      <td>Beatriz Dávilo [et al].</td>\n",
       "      <td>9789506984458</td>\n",
       "      <td>EDUNER</td>\n",
       "      <td>uner</td>\n",
       "      <td>20.0</td>\n",
       "      <td>14/3/2024 17:18</td>\n",
       "      <td>14/3/2025 17:18</td>\n",
       "    </tr>\n",
       "    <tr>\n",
       "      <th>1</th>\n",
       "      <td>58938.0</td>\n",
       "      <td>Semillas de orquídeas (de la región litoral)</td>\n",
       "      <td>Víctor H. Lallana (compilador)</td>\n",
       "      <td>9789506984793</td>\n",
       "      <td>EDUNER</td>\n",
       "      <td>uner</td>\n",
       "      <td>20.0</td>\n",
       "      <td>14/3/2024 17:18</td>\n",
       "      <td>14/3/2025 17:18</td>\n",
       "    </tr>\n",
       "    <tr>\n",
       "      <th>2</th>\n",
       "      <td>58925.0</td>\n",
       "      <td>Breve manual de lectura y escritura  para la u...</td>\n",
       "      <td>Carolina Clerici</td>\n",
       "      <td>9789506984830</td>\n",
       "      <td>EDUNER</td>\n",
       "      <td>uner</td>\n",
       "      <td>20.0</td>\n",
       "      <td>14/3/2024 17:18</td>\n",
       "      <td>14/3/2025 17:18</td>\n",
       "    </tr>\n",
       "    <tr>\n",
       "      <th>3</th>\n",
       "      <td>58932.0</td>\n",
       "      <td>Manual de cálculos para el diseño de plantas d...</td>\n",
       "      <td>Elbio Miguel Woeffray</td>\n",
       "      <td>9789506984915</td>\n",
       "      <td>EDUNER</td>\n",
       "      <td>uner</td>\n",
       "      <td>20.0</td>\n",
       "      <td>14/3/2024 17:18</td>\n",
       "      <td>14/3/2025 17:18</td>\n",
       "    </tr>\n",
       "    <tr>\n",
       "      <th>4</th>\n",
       "      <td>58937.0</td>\n",
       "      <td>Revolución y lucha por la organización. Primer...</td>\n",
       "      <td>Juan A. Vilar</td>\n",
       "      <td>9789506984328</td>\n",
       "      <td>EDUNER</td>\n",
       "      <td>uner</td>\n",
       "      <td>20.0</td>\n",
       "      <td>14/3/2024 17:18</td>\n",
       "      <td>14/3/2025 17:18</td>\n",
       "    </tr>\n",
       "    <tr>\n",
       "      <th>...</th>\n",
       "      <td>...</td>\n",
       "      <td>...</td>\n",
       "      <td>...</td>\n",
       "      <td>...</td>\n",
       "      <td>...</td>\n",
       "      <td>...</td>\n",
       "      <td>...</td>\n",
       "      <td>...</td>\n",
       "      <td>...</td>\n",
       "    </tr>\n",
       "    <tr>\n",
       "      <th>6098</th>\n",
       "      <td>62076.0</td>\n",
       "      <td>América en el pensamiento de Alfonso Reyes</td>\n",
       "      <td>Alfonso Reyes</td>\n",
       "      <td>9786071638182</td>\n",
       "      <td>Fondo de Cultura Económica</td>\n",
       "      <td>uner</td>\n",
       "      <td>100.0</td>\n",
       "      <td>30/8/2024 18:03</td>\n",
       "      <td>30/8/2025 18:03</td>\n",
       "    </tr>\n",
       "    <tr>\n",
       "      <th>6099</th>\n",
       "      <td>62077.0</td>\n",
       "      <td>El enamoramiento y el mal de amores</td>\n",
       "      <td>Alberto Orlandini</td>\n",
       "      <td>9786071645197</td>\n",
       "      <td>Fondo de Cultura Económica</td>\n",
       "      <td>uner</td>\n",
       "      <td>100.0</td>\n",
       "      <td>30/8/2024 18:03</td>\n",
       "      <td>30/8/2025 18:03</td>\n",
       "    </tr>\n",
       "    <tr>\n",
       "      <th>6100</th>\n",
       "      <td>62078.0</td>\n",
       "      <td>Cáncer: herencia y ambiente</td>\n",
       "      <td>Cristina Cortinas</td>\n",
       "      <td>9786071644930</td>\n",
       "      <td>Fondo de Cultura Económica</td>\n",
       "      <td>uner</td>\n",
       "      <td>100.0</td>\n",
       "      <td>30/8/2024 18:04</td>\n",
       "      <td>30/8/2025 18:04</td>\n",
       "    </tr>\n",
       "    <tr>\n",
       "      <th>6101</th>\n",
       "      <td>62079.0</td>\n",
       "      <td>Venenos</td>\n",
       "      <td>Juan Luis Cifuentes</td>\n",
       "      <td>9786071644923</td>\n",
       "      <td>Fondo de Cultura Económica</td>\n",
       "      <td>uner</td>\n",
       "      <td>100.0</td>\n",
       "      <td>30/8/2024 18:04</td>\n",
       "      <td>30/8/2025 18:04</td>\n",
       "    </tr>\n",
       "    <tr>\n",
       "      <th>6102</th>\n",
       "      <td>62080.0</td>\n",
       "      <td>Andar entre libros</td>\n",
       "      <td>Teresa Colomer</td>\n",
       "      <td>9786071643148</td>\n",
       "      <td>Fondo de Cultura Económica</td>\n",
       "      <td>uner</td>\n",
       "      <td>100.0</td>\n",
       "      <td>30/8/2024 18:04</td>\n",
       "      <td>30/8/2025 18:04</td>\n",
       "    </tr>\n",
       "  </tbody>\n",
       "</table>\n",
       "<p>6103 rows × 9 columns</p>\n",
       "</div>"
      ],
      "text/plain": [
       "           ID                                              title  \\\n",
       "0     58930.0  La libertad como tecnología de gobierno. Derec...   \n",
       "1     58938.0       Semillas de orquídeas (de la región litoral)   \n",
       "2     58925.0  Breve manual de lectura y escritura  para la u...   \n",
       "3     58932.0  Manual de cálculos para el diseño de plantas d...   \n",
       "4     58937.0  Revolución y lucha por la organización. Primer...   \n",
       "...       ...                                                ...   \n",
       "6098  62076.0         América en el pensamiento de Alfonso Reyes   \n",
       "6099  62077.0                El enamoramiento y el mal de amores   \n",
       "6100  62078.0                        Cáncer: herencia y ambiente   \n",
       "6101  62079.0                                            Venenos   \n",
       "6102  62080.0                                 Andar entre libros   \n",
       "\n",
       "                              author           isbn  \\\n",
       "0            Beatriz Dávilo [et al].  9789506984458   \n",
       "1     Víctor H. Lallana (compilador)  9789506984793   \n",
       "2                   Carolina Clerici  9789506984830   \n",
       "3              Elbio Miguel Woeffray  9789506984915   \n",
       "4                      Juan A. Vilar  9789506984328   \n",
       "...                              ...            ...   \n",
       "6098                   Alfonso Reyes  9786071638182   \n",
       "6099               Alberto Orlandini  9786071645197   \n",
       "6100               Cristina Cortinas  9786071644930   \n",
       "6101             Juan Luis Cifuentes  9786071644923   \n",
       "6102                  Teresa Colomer  9786071643148   \n",
       "\n",
       "                       Editorial Universidad  Numero_licencia  \\\n",
       "0                         EDUNER        uner             20.0   \n",
       "1                         EDUNER        uner             20.0   \n",
       "2                         EDUNER        uner             20.0   \n",
       "3                         EDUNER        uner             20.0   \n",
       "4                         EDUNER        uner             20.0   \n",
       "...                          ...         ...              ...   \n",
       "6098  Fondo de Cultura Económica        uner            100.0   \n",
       "6099  Fondo de Cultura Económica        uner            100.0   \n",
       "6100  Fondo de Cultura Económica        uner            100.0   \n",
       "6101  Fondo de Cultura Económica        uner            100.0   \n",
       "6102  Fondo de Cultura Económica        uner            100.0   \n",
       "\n",
       "                 dato Fecha_vencimiento_lic  \n",
       "0     14/3/2024 17:18       14/3/2025 17:18  \n",
       "1     14/3/2024 17:18       14/3/2025 17:18  \n",
       "2     14/3/2024 17:18       14/3/2025 17:18  \n",
       "3     14/3/2024 17:18       14/3/2025 17:18  \n",
       "4     14/3/2024 17:18       14/3/2025 17:18  \n",
       "...               ...                   ...  \n",
       "6098  30/8/2024 18:03       30/8/2025 18:03  \n",
       "6099  30/8/2024 18:03       30/8/2025 18:03  \n",
       "6100  30/8/2024 18:04       30/8/2025 18:04  \n",
       "6101  30/8/2024 18:04       30/8/2025 18:04  \n",
       "6102  30/8/2024 18:04       30/8/2025 18:04  \n",
       "\n",
       "[6103 rows x 9 columns]"
      ]
     },
     "execution_count": 11,
     "metadata": {},
     "output_type": "execute_result"
    }
   ],
   "source": [
    "bidi.columns = ['ID', 'title', 'author', 'isbn', 'Editorial','Universidad','Numero_licencia','dato','Fecha_vencimiento_lic'] \n",
    "bidi\n"
   ]
  },
  {
   "cell_type": "code",
   "execution_count": 12,
   "metadata": {},
   "outputs": [
    {
     "name": "stdout",
     "output_type": "stream",
     "text": [
      "Validando calidad de datos del archivo...\n",
      "Informacion de los datos\n",
      "<class 'pandas.core.frame.DataFrame'>\n",
      "RangeIndex: 6103 entries, 0 to 6102\n",
      "Data columns (total 9 columns):\n",
      " #   Column                 Non-Null Count  Dtype  \n",
      "---  ------                 --------------  -----  \n",
      " 0   ID                     2627 non-null   float64\n",
      " 1   title                  6103 non-null   object \n",
      " 2   author                 6101 non-null   object \n",
      " 3   isbn                   6103 non-null   int64  \n",
      " 4   Editorial              6101 non-null   object \n",
      " 5   Universidad            6103 non-null   object \n",
      " 6   Numero_licencia        2627 non-null   float64\n",
      " 7   dato                   2627 non-null   object \n",
      " 8   Fecha_vencimiento_lic  2627 non-null   object \n",
      "dtypes: float64(2), int64(1), object(6)\n",
      "memory usage: 429.2+ KB\n",
      "Valores faltantes: 13908\n",
      "Filas duplicadas: 0\n"
     ]
    }
   ],
   "source": [
    "lectura.validar_calidad(bidi) # Validar la calidad de los datos"
   ]
  },
  {
   "cell_type": "code",
   "execution_count": 13,
   "metadata": {},
   "outputs": [
    {
     "name": "stdout",
     "output_type": "stream",
     "text": [
      "Validando calidad de datos del archivo...\n",
      "Informacion de los datos\n",
      "<class 'pandas.core.frame.DataFrame'>\n",
      "RangeIndex: 6103 entries, 0 to 6102\n",
      "Data columns (total 3 columns):\n",
      " #   Column  Non-Null Count  Dtype \n",
      "---  ------  --------------  ----- \n",
      " 0   title   6103 non-null   object\n",
      " 1   author  6101 non-null   object\n",
      " 2   isbn    6103 non-null   int64 \n",
      "dtypes: int64(1), object(2)\n",
      "memory usage: 143.2+ KB\n",
      "Valores faltantes: 2\n",
      "Filas duplicadas: 0\n"
     ]
    }
   ],
   "source": [
    "bidi2 = bidi[['title','author','isbn']]\n",
    "lectura.validar_calidad(bidi2) # Verificar calidad de los datos"
   ]
  },
  {
   "cell_type": "code",
   "execution_count": 14,
   "metadata": {},
   "outputs": [
    {
     "name": "stderr",
     "output_type": "stream",
     "text": [
      "C:\\Users\\Axel\\AppData\\Local\\Temp\\ipykernel_18516\\2817614857.py:2: SettingWithCopyWarning: \n",
      "A value is trying to be set on a copy of a slice from a DataFrame.\n",
      "Try using .loc[row_indexer,col_indexer] = value instead\n",
      "\n",
      "See the caveats in the documentation: https://pandas.pydata.org/pandas-docs/stable/user_guide/indexing.html#returning-a-view-versus-a-copy\n",
      "  bidi2['origen'] = 'bidi'\n"
     ]
    }
   ],
   "source": [
    "#Agregar columna de origen (koha, koha_consulta, bidi)\n",
    "bidi2['origen'] = 'bidi'"
   ]
  },
  {
   "cell_type": "code",
   "execution_count": 17,
   "metadata": {},
   "outputs": [
    {
     "name": "stderr",
     "output_type": "stream",
     "text": [
      "C:\\Users\\Axel\\AppData\\Local\\Temp\\ipykernel_18516\\3496791945.py:5: SettingWithCopyWarning: \n",
      "A value is trying to be set on a copy of a slice from a DataFrame.\n",
      "Try using .loc[row_indexer,col_indexer] = value instead\n",
      "\n",
      "See the caveats in the documentation: https://pandas.pydata.org/pandas-docs/stable/user_guide/indexing.html#returning-a-view-versus-a-copy\n",
      "  bidi2['title'] = bidi2['title'].str.replace(r'\\(.*?\\)', '', regex=True).str.strip() # Eliminar ediciones\n"
     ]
    }
   ],
   "source": [
    "#en la columna titulo se encuentran titulos y ediciones o volumenes, se procede a solo dejar los titulos\n",
    "# en el caso donde dice edicion se presenta asi \" administración de ventas (8a edición)\" donde el titulo es \"administración de ventas\" \n",
    "# y la edicion es \"8a edición\" entre parentesis se procede a eliminar la edicion\n",
    "\n",
    "bidi2['title'] = bidi2['title'].str.replace(r'\\(.*?\\)', '', regex=True).str.strip() # Eliminar ediciones \n"
   ]
  },
  {
   "cell_type": "code",
   "execution_count": 19,
   "metadata": {},
   "outputs": [
    {
     "name": "stderr",
     "output_type": "stream",
     "text": [
      "C:\\Users\\Axel\\AppData\\Local\\Temp\\ipykernel_18516\\5561759.py:17: SettingWithCopyWarning: \n",
      "A value is trying to be set on a copy of a slice from a DataFrame.\n",
      "Try using .loc[row_indexer,col_indexer] = value instead\n",
      "\n",
      "See the caveats in the documentation: https://pandas.pydata.org/pandas-docs/stable/user_guide/indexing.html#returning-a-view-versus-a-copy\n",
      "  bidi2['title'] = bidi2['title'].apply(limpiar_titulo)\n"
     ]
    }
   ],
   "source": [
    "#para el caso de los volumenes se presenta asi \"química orgánica: volumen 1\" o \"fisica preuniversitaria. volumen i\" es decir el separados es dos puntos o uno\n",
    "#se procede a eliminar los volumenes\n",
    "\n",
    "import re\n",
    "\n",
    "def limpiar_titulo(title):\n",
    "    # Expresión regular para detectar \"volumen\" o \"vol.\" con su número o identificación\n",
    "    patron_volumen = r'(?i)(?:\\bvol(?:umen)?\\.?\\s*[ivxlcdm]+\\b|\\bvolumen\\s*\\d+\\b)'\n",
    "    \n",
    "    # Buscar cualquier ocurrencia de \"volumen\" o \"vol.\" y dividir el string antes de eso\n",
    "    title_limpio = re.split(patron_volumen, title)[0]\n",
    "    \n",
    "    # Eliminar espacios en blanco adicionales al inicio y al final\n",
    "    return title_limpio.strip()\n",
    "\n",
    "# Aplicar la función a la columna 'title'\n",
    "bidi2['title'] = bidi2['title'].apply(limpiar_titulo)"
   ]
  },
  {
   "cell_type": "code",
   "execution_count": 20,
   "metadata": {},
   "outputs": [],
   "source": [
    "bidi2.to_csv('C:/Users/Axel/Desktop/Practica-Biblioteca/data/procesados/libros_bidi.csv', index=False) # Guardar el archivo en la carpeta procesados"
   ]
  },
  {
   "cell_type": "markdown",
   "metadata": {},
   "source": [
    "# Juntar los tres archivos limpios resultantes"
   ]
  },
  {
   "cell_type": "code",
   "execution_count": 3,
   "metadata": {},
   "outputs": [],
   "source": [
    "# Leer import pandas as pd\n",
    "\n",
    "# Leer los archivos CSV con los datos limpios\n",
    "# Especificar el delimitador y el tipo de dato para la columna ISBN\n",
    "bidi = pd.read_csv('C:/Users/Axel/Desktop/Practica-Biblioteca/data/procesados/libros_bidi.csv', delimiter=',')\n",
    "libros_consulta_koha = pd.read_csv('C:/Users/Axel/Desktop/Practica-Biblioteca/data/procesados/libros_consulta_koha.csv', delimiter=',')\n",
    "libros_total_koha = pd.read_csv('C:/Users/Axel/Desktop/Practica-Biblioteca/data/procesados/libros_total_koha.csv', delimiter=',', dtype={'isbn': str})"
   ]
  },
  {
   "cell_type": "code",
   "execution_count": 4,
   "metadata": {},
   "outputs": [
    {
     "data": {
      "text/html": [
       "<div>\n",
       "<style scoped>\n",
       "    .dataframe tbody tr th:only-of-type {\n",
       "        vertical-align: middle;\n",
       "    }\n",
       "\n",
       "    .dataframe tbody tr th {\n",
       "        vertical-align: top;\n",
       "    }\n",
       "\n",
       "    .dataframe thead th {\n",
       "        text-align: right;\n",
       "    }\n",
       "</style>\n",
       "<table border=\"1\" class=\"dataframe\">\n",
       "  <thead>\n",
       "    <tr style=\"text-align: right;\">\n",
       "      <th></th>\n",
       "      <th>title</th>\n",
       "      <th>author</th>\n",
       "      <th>isbn</th>\n",
       "      <th>origen</th>\n",
       "    </tr>\n",
       "  </thead>\n",
       "  <tbody>\n",
       "    <tr>\n",
       "      <th>0</th>\n",
       "      <td>Chaos :</td>\n",
       "      <td>Alligood, Kathleen T.</td>\n",
       "      <td>9780387946771</td>\n",
       "      <td>koha</td>\n",
       "    </tr>\n",
       "    <tr>\n",
       "      <th>1</th>\n",
       "      <td>Analysis of observed chaotic data /</td>\n",
       "      <td>Abarbanel, H. D. I</td>\n",
       "      <td>9780387983721</td>\n",
       "      <td>koha</td>\n",
       "    </tr>\n",
       "    <tr>\n",
       "      <th>2</th>\n",
       "      <td>Proactive innovation :</td>\n",
       "      <td>Richter, Sergio Raúl</td>\n",
       "      <td>9798861825221</td>\n",
       "      <td>koha</td>\n",
       "    </tr>\n",
       "    <tr>\n",
       "      <th>3</th>\n",
       "      <td>Introducción a la economía de la salud para in...</td>\n",
       "      <td>Martínez Licona, Fabiola Margarita</td>\n",
       "      <td>9786072813410</td>\n",
       "      <td>koha</td>\n",
       "    </tr>\n",
       "    <tr>\n",
       "      <th>4</th>\n",
       "      <td>Guerra biológica y bioterrorismo /</td>\n",
       "      <td>Lema, Pablo</td>\n",
       "      <td>9789871220687</td>\n",
       "      <td>koha</td>\n",
       "    </tr>\n",
       "    <tr>\n",
       "      <th>...</th>\n",
       "      <td>...</td>\n",
       "      <td>...</td>\n",
       "      <td>...</td>\n",
       "      <td>...</td>\n",
       "    </tr>\n",
       "    <tr>\n",
       "      <th>1902</th>\n",
       "      <td>Modelos matemáticos para todos los niveles.</td>\n",
       "      <td>Mochón, Simón</td>\n",
       "      <td>9789506738174</td>\n",
       "      <td>koha</td>\n",
       "    </tr>\n",
       "    <tr>\n",
       "      <th>1903</th>\n",
       "      <td>La génesis y la enseñanza del cálculo :</td>\n",
       "      <td>Ímaz J., Carlos</td>\n",
       "      <td>9786071706768</td>\n",
       "      <td>koha</td>\n",
       "    </tr>\n",
       "    <tr>\n",
       "      <th>1904</th>\n",
       "      <td>La divina comedia.</td>\n",
       "      <td>Alighieri, Dante</td>\n",
       "      <td>9789876620116</td>\n",
       "      <td>koha</td>\n",
       "    </tr>\n",
       "    <tr>\n",
       "      <th>1905</th>\n",
       "      <td>Biomedical signal processing :</td>\n",
       "      <td>Cohen, Arnon</td>\n",
       "      <td>9780849359330</td>\n",
       "      <td>koha</td>\n",
       "    </tr>\n",
       "    <tr>\n",
       "      <th>1906</th>\n",
       "      <td>Procesamiento digital de señales /</td>\n",
       "      <td>Aljama Corrales, Tomás</td>\n",
       "      <td>9789706200563</td>\n",
       "      <td>koha</td>\n",
       "    </tr>\n",
       "  </tbody>\n",
       "</table>\n",
       "<p>1907 rows × 4 columns</p>\n",
       "</div>"
      ],
      "text/plain": [
       "                                                  title  \\\n",
       "0                                               Chaos :   \n",
       "1                   Analysis of observed chaotic data /   \n",
       "2                                Proactive innovation :   \n",
       "3     Introducción a la economía de la salud para in...   \n",
       "4                    Guerra biológica y bioterrorismo /   \n",
       "...                                                 ...   \n",
       "1902        Modelos matemáticos para todos los niveles.   \n",
       "1903            La génesis y la enseñanza del cálculo :   \n",
       "1904                                 La divina comedia.   \n",
       "1905                     Biomedical signal processing :   \n",
       "1906                 Procesamiento digital de señales /   \n",
       "\n",
       "                                  author           isbn origen  \n",
       "0                  Alligood, Kathleen T.  9780387946771   koha  \n",
       "1                     Abarbanel, H. D. I  9780387983721   koha  \n",
       "2                   Richter, Sergio Raúl  9798861825221   koha  \n",
       "3     Martínez Licona, Fabiola Margarita  9786072813410   koha  \n",
       "4                            Lema, Pablo  9789871220687   koha  \n",
       "...                                  ...            ...    ...  \n",
       "1902                       Mochón, Simón  9789506738174   koha  \n",
       "1903                     Ímaz J., Carlos  9786071706768   koha  \n",
       "1904                    Alighieri, Dante  9789876620116   koha  \n",
       "1905                        Cohen, Arnon  9780849359330   koha  \n",
       "1906              Aljama Corrales, Tomás  9789706200563   koha  \n",
       "\n",
       "[1907 rows x 4 columns]"
      ]
     },
     "execution_count": 4,
     "metadata": {},
     "output_type": "execute_result"
    }
   ],
   "source": [
    "# Concatenar los DataFrames\n",
    "libros = pd.concat([bidi, libros_consulta_koha, libros_total_koha], axis=0)\n",
    "\n",
    "libros_total_koha"
   ]
  },
  {
   "cell_type": "code",
   "execution_count": 5,
   "metadata": {},
   "outputs": [],
   "source": [
    "libros.to_csv('C:/Users/Axel/Desktop/Practica-Biblioteca/data/procesados/libros_biblioteca.csv', index=False) # Guardar el archivo en la carpeta procesados"
   ]
  }
 ],
 "metadata": {
  "kernelspec": {
   "display_name": "Python 3",
   "language": "python",
   "name": "python3"
  },
  "language_info": {
   "codemirror_mode": {
    "name": "ipython",
    "version": 3
   },
   "file_extension": ".py",
   "mimetype": "text/x-python",
   "name": "python",
   "nbconvert_exporter": "python",
   "pygments_lexer": "ipython3",
   "version": "3.12.7"
  }
 },
 "nbformat": 4,
 "nbformat_minor": 2
}
